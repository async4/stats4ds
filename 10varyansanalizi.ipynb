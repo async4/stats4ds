{
 "cells": [
  {
   "cell_type": "raw",
   "metadata": {},
   "source": [
    "varyans analizi nedir: iki ya da daha fazla grup ortalaması arasında istatistiksel olarak anlamlı\n",
    "farklılık olup olmadıgını ogrenilmek istenildiginde kullanılır\n",
    "\n",
    "Hipotezler:\n",
    "    H0: μ1 = μ2 = μ3\n",
    "    H1: Esit degillerdir (en az birisi farklidir)\n",
    "\n",
    "test istatistigi:\n",
    "    Fs = MS(between) / MS(within)\n",
    "    \n",
    "varsayimlar:\n",
    "    gözlemlerin birbirinden bagimsiz olmasi\n",
    "    normal dagilim\n",
    "    varyans homojenligi"
   ]
  },
  {
   "cell_type": "raw",
   "metadata": {},
   "source": [
    "iş uygulaması: anasayfa içerik stratejisi belirleme\n",
    "\n",
    "    | A |  | B |  | C |\n",
    "\n",
    "Problem:\n",
    "    anasayfa da gecirilen süre artırılmak isteniyor\n",
    "\n",
    "Detaylar:\n",
    "    * bir web sitesi icin basari kriterleri: ortalama ziyaret süresi, hemen cikis orani vs.\n",
    "    * uzun zaman geciren kullanıcıların reklamlara daha fazla tikladigi ve markaya olan\n",
    "      bagliliklarinin arttigi biliniyor.\n",
    "    * buna yonelik olarak benzer haberler farklı resimler ya da farklı formatlarda hazırlanarak\n",
    "      olusturulan test gruplarına gosteriliyor.\n",
    "    * A: dogal sekilde, B: yonlendirici, C: ilgi cekici"
   ]
  },
  {
   "cell_type": "code",
   "execution_count": 3,
   "metadata": {},
   "outputs": [
    {
     "data": {
      "text/html": [
       "<div>\n",
       "<style scoped>\n",
       "    .dataframe tbody tr th:only-of-type {\n",
       "        vertical-align: middle;\n",
       "    }\n",
       "\n",
       "    .dataframe tbody tr th {\n",
       "        vertical-align: top;\n",
       "    }\n",
       "\n",
       "    .dataframe thead th {\n",
       "        text-align: right;\n",
       "    }\n",
       "</style>\n",
       "<table border=\"1\" class=\"dataframe\">\n",
       "  <thead>\n",
       "    <tr style=\"text-align: right;\">\n",
       "      <th></th>\n",
       "      <th>GRUP_A</th>\n",
       "      <th>GRUP_B</th>\n",
       "      <th>GRUP_C</th>\n",
       "    </tr>\n",
       "  </thead>\n",
       "  <tbody>\n",
       "    <tr>\n",
       "      <th>0</th>\n",
       "      <td>28</td>\n",
       "      <td>31</td>\n",
       "      <td>40</td>\n",
       "    </tr>\n",
       "    <tr>\n",
       "      <th>1</th>\n",
       "      <td>33</td>\n",
       "      <td>32</td>\n",
       "      <td>33</td>\n",
       "    </tr>\n",
       "    <tr>\n",
       "      <th>2</th>\n",
       "      <td>30</td>\n",
       "      <td>30</td>\n",
       "      <td>38</td>\n",
       "    </tr>\n",
       "    <tr>\n",
       "      <th>3</th>\n",
       "      <td>29</td>\n",
       "      <td>30</td>\n",
       "      <td>41</td>\n",
       "    </tr>\n",
       "    <tr>\n",
       "      <th>4</th>\n",
       "      <td>28</td>\n",
       "      <td>33</td>\n",
       "      <td>42</td>\n",
       "    </tr>\n",
       "  </tbody>\n",
       "</table>\n",
       "</div>"
      ],
      "text/plain": [
       "   GRUP_A  GRUP_B  GRUP_C\n",
       "0      28      31      40\n",
       "1      33      32      33\n",
       "2      30      30      38\n",
       "3      29      30      41\n",
       "4      28      33      42"
      ]
     },
     "execution_count": 3,
     "metadata": {},
     "output_type": "execute_result"
    }
   ],
   "source": [
    "import numpy as np\n",
    "import pandas as pd\n",
    "\n",
    "A = pd.DataFrame([28,33,30,29,28,29,27,31,30,32,28,33,25,29,27,31,31,30,31,34,30,32,31,34,28,32,31,28,33,29])\n",
    "B = pd.DataFrame([31,32,30,30,33,32,34,27,36,30,31,30,38,29,30,34,34,31,35,35,33,30,28,29,26,37,31,28,34,33])\n",
    "C = pd.DataFrame([40,33,38,41,42,43,38,35,39,39,36,34,35,40,38,36,39,36,33,35,38,35,40,40,39,38,38,43,40,42])\n",
    "\n",
    "dfs = [A, B, C]\n",
    "ABC = pd.concat(dfs, axis=1)\n",
    "ABC.columns = [\"GRUP_A\", \"GRUP_B\", \"GRUP_C\"]\n",
    "ABC.head()"
   ]
  },
  {
   "cell_type": "code",
   "execution_count": 15,
   "metadata": {},
   "outputs": [
    {
     "name": "stdout",
     "output_type": "stream",
     "text": [
      "(0.9697431921958923, 0.5321715474128723)\n",
      "(0.9789854884147644, 0.7979801297187805)\n",
      "(0.9579201340675354, 0.273820161819458)\n"
     ]
    }
   ],
   "source": [
    "# Varsayim kontrolü\n",
    "from scipy.stats import shapiro\n",
    "\n",
    "print(shapiro(ABC[\"GRUP_A\"]))\n",
    "# H0 reddedilemiyor\n",
    "\n",
    "print(shapiro(ABC[\"GRUP_B\"]))\n",
    "# H0 reddedilemiyor\n",
    "\n",
    "print(shapiro(ABC[\"GRUP_C\"]))\n",
    "# H0 reddedilemiyor\n",
    "\n",
    "# 3 deger icin normallik varsayimi saglanir"
   ]
  },
  {
   "cell_type": "code",
   "execution_count": 20,
   "metadata": {},
   "outputs": [
    {
     "data": {
      "text/plain": [
       "LeveneResult(statistic=1.0267403645055275, pvalue=0.36247110117417064)"
      ]
     },
     "execution_count": 20,
     "metadata": {},
     "output_type": "execute_result"
    }
   ],
   "source": [
    "from scipy import stats\n",
    "stats.levene(ABC[\"GRUP_A\"], ABC[\"GRUP_B\"], ABC[\"GRUP_C\"])\n",
    "# H0 reddedilemiyor varyanslar homojendir"
   ]
  },
  {
   "cell_type": "code",
   "execution_count": 49,
   "metadata": {},
   "outputs": [
    {
     "name": "stdout",
     "output_type": "stream",
     "text": [
      "test istatistigi: 74.6928, p-value: 0.0000\n"
     ]
    }
   ],
   "source": [
    "# hipotez testi\n",
    "from scipy.stats import f_oneway\n",
    "\n",
    "test_istatistigi, pvalue = f_oneway(ABC[\"GRUP_A\"], ABC[\"GRUP_B\"], ABC[\"GRUP_C\"])\n",
    "print(\"test istatistigi: {:.4f}, p-value: {:.4f}\" .format(test_istatistigi, pvalue))\n",
    "# H0 red"
   ]
  },
  {
   "cell_type": "raw",
   "metadata": {},
   "source": [
    "! gruplar arasinda istatistiksel olarak anlamli fark vardir."
   ]
  },
  {
   "cell_type": "code",
   "execution_count": 50,
   "metadata": {},
   "outputs": [
    {
     "data": {
      "text/plain": [
       "<matplotlib.axes._subplots.AxesSubplot at 0x7f6b401571d0>"
      ]
     },
     "execution_count": 50,
     "metadata": {},
     "output_type": "execute_result"
    },
    {
     "data": {
      "image/png": "[encoded data removed]",
      "text/plain": [
       "<Figure size 432x288 with 1 Axes>"
      ]
     },
     "metadata": {
      "needs_background": "light"
     },
     "output_type": "display_data"
    }
   ],
   "source": [
    "import seaborn as sns\n",
    "sns.boxplot(data=ABC)"
   ]
  },
  {
   "cell_type": "code",
   "execution_count": 53,
   "metadata": {},
   "outputs": [
    {
     "name": "stdout",
     "output_type": "stream",
     "text": [
      "test istatistigi: 54.1982 p-value: 0.0000\n"
     ]
    }
   ],
   "source": [
    "# Nonparametrik hipotez testi\n",
    "from scipy.stats import kruskal\n",
    "\n",
    "test_istatistigi, pvalue = kruskal(ABC[\"GRUP_A\"], ABC[\"GRUP_B\"], ABC[\"GRUP_C\"])\n",
    "print(\"test istatistigi: {:.4f} p-value: {:.4f}\" .format(test_istatistigi, pvalue))\n",
    "# H0 red"
   ]
  }
 ],
 "metadata": {
  "kernelspec": {
   "display_name": "Python 3",
   "language": "python",
   "name": "python3"
  },
  "language_info": {
   "codemirror_mode": {
    "name": "ipython",
    "version": 3
   },
   "file_extension": ".py",
   "mimetype": "text/x-python",
   "name": "python",
   "nbconvert_exporter": "python",
   "pygments_lexer": "ipython3",
   "version": "3.6.9"
  }
 },
 "nbformat": 4,
 "nbformat_minor": 4
}
