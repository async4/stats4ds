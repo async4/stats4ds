{
 "cells": [
  {
   "cell_type": "raw",
   "metadata": {},
   "source": [
    "olasilik nedir: olayların olabilirliğinin sayisal ifadesidir.\n",
    "\n",
    "rassal degisken nedir: değerlerini bir deneyin sonuclarindan alan degiskene denir.\n",
    "\n",
    "\n",
    "dağılım nedir: evrendeki olayların sayısal karşılıklarının ortaya çıkardığı yapıya denir.\n",
    "\n",
    "olasılık dağılımı nedir: bir rassal olaya ait değerler ve bu değerlerin gerçekleşme olasiliklarinin bir arada ifade edilmesine denir.\n",
    "\n",
    "olasilik fonksiyonu nedir: bir degiskeninin herhangi bir degeri almasi olasiligini hesaplamaya yarayan fonksiyondur."
   ]
  },
  {
   "cell_type": "raw",
   "metadata": {},
   "source": [
    "kesikli olasilik dagilimlari\n",
    "    bernoulli\n",
    "    binom\n",
    "    poisson\n",
    "    \n",
    "sürekli olasilik dagilimlari\n",
    "    normal\n",
    "    üniform\n",
    "    üstel"
   ]
  },
  {
   "cell_type": "raw",
   "metadata": {},
   "source": [
    "---------------------------------------------------------\n",
    "bernoulli dagilimi: basarili-basarisiz, olumlu-olumsuz seklindeki iki sonuclu olaylar ile ilgilenildiginde kullanilan kesikli olasilik dagilimidir.\n",
    "\n",
    "\n",
    "    f(x;p) = pow(p, x)*pow(1-p, 1-x) for x E {0,1}\n",
    "  \n",
    "f: olasilik fonksiyonu x ve p ya bagli bir fonksiyondur.\n",
    "p: olasilik (yazi tura da olasilik 0.5 dir)\n",
    "x: kesikli degiskenin alacagi degerdir. (yazi turada yazi 1, tura 0)\n",
    "\n",
    "E(X) = p (beklenen deger)\n",
    "Var(X) = p*q = p*(1-p)\n"
   ]
  },
  {
   "cell_type": "code",
   "execution_count": 4,
   "metadata": {},
   "outputs": [],
   "source": [
    "from scipy.stats import bernoulli"
   ]
  },
  {
   "cell_type": "code",
   "execution_count": 5,
   "metadata": {},
   "outputs": [
    {
     "data": {
      "text/plain": [
       "0.6"
      ]
     },
     "execution_count": 5,
     "metadata": {},
     "output_type": "execute_result"
    }
   ],
   "source": [
    "p = 0.6 # yazi tura ornegi\n",
    "rv = bernoulli(p)\n",
    "rv.pmf(k=1) # olasilik kütle fonksiyonu - probabilty mass funct"
   ]
  },
  {
   "cell_type": "raw",
   "metadata": {},
   "source": [
    "büyük sayilar yasasi: bir rassal degiskenin uzun vadeli kararlılıgini tanimlayan olasilik teoremidir."
   ]
  },
  {
   "cell_type": "code",
   "execution_count": 6,
   "metadata": {},
   "outputs": [],
   "source": [
    "import numpy as np"
   ]
  },
  {
   "cell_type": "code",
   "execution_count": 16,
   "metadata": {},
   "outputs": [
    {
     "name": "stdout",
     "output_type": "stream",
     "text": [
      "Atis sayisi: 2 --- Yazi olasiligi: 50.00\n",
      "Atis sayisi: 4 --- Yazi olasiligi: 0.00\n",
      "Atis sayisi: 8 --- Yazi olasiligi: 62.50\n",
      "Atis sayisi: 16 --- Yazi olasiligi: 43.75\n",
      "Atis sayisi: 32 --- Yazi olasiligi: 46.88\n",
      "Atis sayisi: 64 --- Yazi olasiligi: 56.25\n",
      "Atis sayisi: 128 --- Yazi olasiligi: 50.78\n",
      "Atis sayisi: 256 --- Yazi olasiligi: 52.73\n",
      "Atis sayisi: 512 --- Yazi olasiligi: 52.93\n",
      "Atis sayisi: 1024 --- Yazi olasiligi: 50.20\n",
      "Atis sayisi: 2048 --- Yazi olasiligi: 48.58\n",
      "Atis sayisi: 4096 --- Yazi olasiligi: 49.49\n",
      "Atis sayisi: 8192 --- Yazi olasiligi: 49.58\n",
      "Atis sayisi: 16384 --- Yazi olasiligi: 49.96\n",
      "Atis sayisi: 32768 --- Yazi olasiligi: 50.00\n",
      "Atis sayisi: 65536 --- Yazi olasiligi: 49.68\n",
      "Atis sayisi: 131072 --- Yazi olasiligi: 49.97\n",
      "Atis sayisi: 262144 --- Yazi olasiligi: 50.13\n",
      "Atis sayisi: 524288 --- Yazi olasiligi: 50.01\n",
      "Atis sayisi: 1048576 --- Yazi olasiligi: 50.09\n"
     ]
    }
   ],
   "source": [
    "rng = np.random.RandomState(123)\n",
    "for i in np.arange(1, 21):\n",
    "    deney_sayisi = pow(2, i)\n",
    "    yazi_turalar = rng.randint(0, 2, size=deney_sayisi)\n",
    "    yazi_olasiliklari = np.mean(yazi_turalar)\n",
    "    print(f\"Atis sayisi: {deney_sayisi} --- Yazi olasiligi: %.2f\" %(yazi_olasiliklari * 100))"
   ]
  },
  {
   "cell_type": "raw",
   "metadata": {},
   "source": [
    "---------------------------------------------------------\n",
    "binom dagilimi: bagimsiz n deneme sonucu k basarili olma olasiligi ile ilgilenildiginde\n",
    "kullanilan dagilimdir.\n",
    "\n",
    "f(x;n, p) = (n x)*pow(p, x)*pow(1-p, n-x) x = 0, 1, 2, ..., n\n",
    "E(X) = n*p Var(X) = n*p*(1-p)\n",
    "\n",
    "ex: bir madeni para 4 kere atiliyor. 2 kere yazi gelme olasiligi nedir?\n",
    "\n",
    "    f(x;n, p) = (n x)*pow(p, x)*pow(1-p, n-x) x = 0, 1, 2, ..., n\n",
    "    \n",
    "    f(2;4, 0.50) = (4 2)*pow(0.50, 2)*pow(1-0.50, 4-2) = 0.375"
   ]
  },
  {
   "cell_type": "raw",
   "metadata": {},
   "source": [
    "Problem:\n",
    "    çeşitli mecralara reklam veriliyor, reklamlarin tiklanma ve geri dönüşüm oranlari\n",
    "    optimize edilmeye çalışılıyor. Buna yönelik olarak belirli bir mecrada çeşitli\n",
    "    senaryolara göre reklama tiklama olasiliklari hesaplanmak isteniliyor.\n",
    "\n",
    "Detaylar:\n",
    "    bir mecrada reklam verilecek\n",
    "    dagilim ve reklama tiklama olasiligi biliniyor (0.01)\n",
    "    \n",
    "Soru: reklamı 100 kisi gordugunde 1, 5, 10 tiklanma olasiligi nedir?\n",
    "\n",
    "* 1 tiklanmasi olasiligi. 100 kisi bu reklami gordugunde 1 kisinin bu reklami tiklama olasiligi.\n",
    "f(1;100, 0.01) = (100 1)*pow(0.01, 2)*pow(1-0.01, 100-1) = 0.37\n",
    "f(5;100, 0.01) = 0.00289779\n",
    "f(10;100, 0.01) = 0.00000007\n"
   ]
  },
  {
   "cell_type": "code",
   "execution_count": 17,
   "metadata": {},
   "outputs": [],
   "source": [
    "from scipy.stats import binom"
   ]
  },
  {
   "cell_type": "code",
   "execution_count": 18,
   "metadata": {},
   "outputs": [
    {
     "name": "stdout",
     "output_type": "stream",
     "text": [
      "0.36972963764971983\n",
      "0.0028977871237616114\n",
      "7.006035693977161e-08\n"
     ]
    }
   ],
   "source": [
    "p = 0.01\n",
    "n = 100\n",
    "rv = binom(n, p)\n",
    "print(rv.pmf(1))\n",
    "print(rv.pmf(5))\n",
    "print(rv.pmf(10))"
   ]
  },
  {
   "cell_type": "raw",
   "metadata": {},
   "source": [
    "---------------------------------------------------------\n",
    "poisson dagilimi: belirli bir zaman araliginda belirli bir alanda nadiren rastlanan\n",
    "olayların olasiliklarini hesaplamak icin kullanilir\n",
    "\n",
    "f(x, λ) = pow(λ, x)*pow(e, -λ) / x!  x = 0,1,2, ..., n\n",
    "E(X) = λ Var(X) = λ (ortalama ve varyans birbirine esittir.)\n",
    "\n",
    "λ: beklenen sonucun ortalama olarak gerceklesme sayisidir. ortalamadir.\n",
    "e: euler sabiti\n",
    "x: ilgilenmis oldugumuz olayin ortaya cikma sayisi.\n",
    "\n",
    "* 10 bin kelimeden olusan bir kitapta hatali kelime sayisi\n",
    "* 4000 ogrencili okulda not girisinde hata yapilmasi\n",
    "* bir is gununde cagri merkezine gelen taktir sayisi\n",
    "* kredi karti islemlerinde sahtekarlik olmasi\n",
    "* rotara dusen ucus sefer sayisi\n",
    "\n",
    "bir olayin nadir olay kabul edilebilmesi icin genel kabul edilen gorus rassal deneme sayisi\n",
    "n in 50 den buyuk olmasi n*p nin de 5 den kucuk olmasi gerekir.\n",
    "    n > 50, n*p < 5 ise nadir olaydir.\n",
    "\n",
    "! Rassal denemeler iki sonuclu olmalidir.\n",
    "! Aynı kosullar altinda gerceklestirilmelidir.\n",
    "! Rassal denemeler birbirinden bagimsiz olmalidir.\n",
    "\n",
    "ex: bir üniversitede 5000 not girisinde 5 tane notun yanlis girilmesi olasiligi nedir ?\n",
    "(dagilimin poison oldugu biliniyor ve λ = 0.2)\n",
    "\n",
    "    f(5; 0.2) = pow(0.2, 5)*pow(e, -0.2) / 5! = 0.00000218328201"
   ]
  },
  {
   "cell_type": "raw",
   "metadata": {},
   "source": [
    "iş uygulamasi: ilan girisi hata olasiliklarinin hesaplanmasi\n",
    "\n",
    "Problem :\n",
    "    hatali ilan girisi olasiliklari hesaplanmak isteniyor.\n",
    "    \n",
    "Detaylar:\n",
    "    * bir yil süresince ölcümler yapiliyor.\n",
    "    * dagilim biliniyor (poisson) ve λ = 0.1 (ortalama hata sayisi)\n",
    "    \n",
    "Soru: hic hata olmamasi , 3 hata olmasi ve 5 hata olmasi olasiliklari nedir ?\n",
    "\n",
    "    f(0;0.1) = pow(0.1, 0)*pow(e, -0.1) / 0! = 0.90483\n",
    "    f(3;0.1) = pow(0.1, 3)*pow(e, -0.1) / 3! = 0.00015\n",
    "    f(5;0.1) = pow(0.1, 5)*pow(e, -0.1) / 5! = 0.0000007\n",
    "    "
   ]
  },
  {
   "cell_type": "code",
   "execution_count": 45,
   "metadata": {},
   "outputs": [],
   "source": [
    "from scipy.stats import poisson"
   ]
  },
  {
   "cell_type": "code",
   "execution_count": 46,
   "metadata": {},
   "outputs": [
    {
     "name": "stdout",
     "output_type": "stream",
     "text": [
      "0.9048374180359595\n",
      "0.00015080623633932676\n",
      "7.54031181696634e-08\n"
     ]
    }
   ],
   "source": [
    "lambda_ = 0.1\n",
    "rv = poisson(mu=lambda_)\n",
    "print(rv.pmf(k=0))\n",
    "print(rv.pmf(k=3))\n",
    "print(rv.pmf(k=5))"
   ]
  },
  {
   "cell_type": "raw",
   "metadata": {},
   "source": [
    "---------------------------------------------------------\n",
    "normal dagilim: normal dagildigi bilinen sürekli rassal degiskenler icin olasilik\n",
    "hesaplanmasi icin kullanilir.\n",
    "\n",
    "f(x| μ, pow(σ, 2)) = 1/sqrt(2*π*pow(σ, 2)) * pow(e, -(x-μ, 2)) / 2*pow(σ, 2)\n",
    "\n",
    "x: rassal degiskenin degerini\n",
    "μ(mu): beklenen degeri, ortalama \n",
    "σ^2(sigma): varyans\n",
    "\n",
    "iş uygulamasi: ürün satiş olasiliklarinin hesaplanmasi\n",
    "\n",
    "Problem:\n",
    "    bir yatirim/toplanti oncesinde gelecek ay ile ilgili satışlarin \n",
    "    belirli değerlerde gerçekleşmesi olasiliklari belirlenmek isteniyor.\n",
    "    \n",
    "Detaylar:\n",
    "    * dagilimin normal oldugu biliniyor\n",
    "    * aylik ortalama satış sayisi 80k, standart sapma 5k\n",
    "    * 90k dan fazla satış yapma olasiligi nedir ?"
   ]
  },
  {
   "cell_type": "code",
   "execution_count": 47,
   "metadata": {},
   "outputs": [],
   "source": [
    "from scipy.stats import norm"
   ]
  },
  {
   "cell_type": "code",
   "execution_count": 54,
   "metadata": {},
   "outputs": [
    {
     "name": "stdout",
     "output_type": "stream",
     "text": [
      "0.02275013194817921\n",
      "0.9772498680518208\n",
      "0.08075665923377107\n",
      "0.13590512198327787\n"
     ]
    }
   ],
   "source": [
    "# 90 dan fazla olma olasiligi\n",
    "print(1-norm.cdf(90, 80, 5)) # Cumulative distribution func - birikimli dağılım fonksiyonu\n",
    "\n",
    "# 70 den fazla olma olasiligi\n",
    "print(1-norm.cdf(70, 80, 5))\n",
    "\n",
    "# 73 den az olma olasiligi\n",
    "print(norm.cdf(73, 80, 5))\n",
    "\n",
    "# 85 ile 90 arasinda olma olasiligi\n",
    "print(norm.cdf(90, 80, 5) - norm.cdf(85, 80, 5))\n"
   ]
  },
  {
   "cell_type": "code",
   "execution_count": null,
   "metadata": {},
   "outputs": [],
   "source": []
  }
 ],
 "metadata": {
  "kernelspec": {
   "display_name": "Python 3",
   "language": "python",
   "name": "python3"
  },
  "language_info": {
   "codemirror_mode": {
    "name": "ipython",
    "version": 3
   },
   "file_extension": ".py",
   "mimetype": "text/x-python",
   "name": "python",
   "nbconvert_exporter": "python",
   "pygments_lexer": "ipython3",
   "version": "3.6.9"
  }
 },
 "nbformat": 4,
 "nbformat_minor": 4
}
