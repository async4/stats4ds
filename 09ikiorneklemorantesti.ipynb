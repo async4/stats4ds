{
 "cells": [
  {
   "cell_type": "raw",
   "metadata": {},
   "source": [
    "iki oran arasinda karşılaştırma yapmak icin kullanilir\n",
    "\n",
    "H0: P1 = P2   H0: P1 <= P2  H0: P1 >= P2\n",
    "H1: P1 != P2  H1: P1 >P2    H1: P1 < P2\n",
    "\n",
    "test istatistigi:\n",
    "    \n",
    "    Zh = (p1 - p2) / sqrt(p*(1-p) * (1 / n1 + 1 / n2))\n",
    "\n",
    "varsayimlar:\n",
    "    n1 > 30  n2 > 30"
   ]
  },
  {
   "cell_type": "raw",
   "metadata": {},
   "source": [
    "iş uygulamasi: kirmizi buton mu yesil buton mu?\n",
    "\n",
    "H0: P1 = P2\n",
    "H1: P1 != P2\n",
    "\n",
    "\n",
    "yesil buton: 1000 goruntuleme 300 tık\n",
    "kirmizi buton: 1100 goruntuleme 250 tık\n"
   ]
  },
  {
   "cell_type": "code",
   "execution_count": 8,
   "metadata": {},
   "outputs": [
    {
     "data": {
      "text/plain": [
       "(3.7857863233209255, 0.0001532232957772221)"
      ]
     },
     "execution_count": 8,
     "metadata": {},
     "output_type": "execute_result"
    }
   ],
   "source": [
    "# Ikı orneklem oran testi\n",
    "import numpy as np\n",
    "from statsmodels.stats.proportion import proportions_ztest\n",
    "\n",
    "basari_sayisi = np.array([300, 250])\n",
    "gozlem_sayilari = np.array([1000, 1100])\n",
    "\n",
    "proportions_ztest(count=basari_sayisi, nobs=gozlem_sayilari)\n",
    "# H0 red"
   ]
  },
  {
   "cell_type": "raw",
   "metadata": {},
   "source": [
    "! iki ornek arasinda istatistiksel olarak anlamlı bir fark vardir."
   ]
  }
 ],
 "metadata": {
  "kernelspec": {
   "display_name": "Python 3",
   "language": "python",
   "name": "python3"
  },
  "language_info": {
   "codemirror_mode": {
    "name": "ipython",
    "version": 3
   },
   "file_extension": ".py",
   "mimetype": "text/x-python",
   "name": "python",
   "nbconvert_exporter": "python",
   "pygments_lexer": "ipython3",
   "version": "3.6.9"
  }
 },
 "nbformat": 4,
 "nbformat_minor": 4
}
