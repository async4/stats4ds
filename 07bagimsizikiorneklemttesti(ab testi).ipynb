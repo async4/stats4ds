{
 "cells": [
  {
   "cell_type": "raw",
   "metadata": {},
   "source": [
    "iki grup ortalamasi arasinda karsilastirma yapilmak istenildiginde kullanilir.\n",
    "\n",
    "H0: μ1 = μ2    H0: μ1 <= μ2   H0: μ1 >= μ2\n",
    "H1: μ1 != μ2   H1: μ1 > μ2    H1: μ1 < μ2\n",
    "\n",
    "test istatistigi:\n",
    "    ornek sayilar ayni, varyanslar homojen ise\n",
    "        t = mean(X1) - mean(X2) / Sp*sqrt(2/n) ,   Sp = sqrt((s^2 * x1 + s^2 * x2) / 2)\n",
    "    \n",
    "    ornek sayilar farkli, varyanslar homojen ise\n",
    "        t = mean(X1) - mean(X2) / Sp*sqrt(1/n1 + 1/n2),  Sp = sqrt((n1-1)*s^2 * x1 + (n2-1)*s^2 * x2) / n1+n2-2)\n",
    "        \n",
    "    ornek sayilar farkli, varyanslar homojen değilse\n",
    "        t = mean(X1) - mean(X2) / Smean(Δ),  Smean(Δ) = sqrt(s1^2 / n1 + s2^2 / n2)"
   ]
  },
  {
   "cell_type": "raw",
   "metadata": {},
   "source": [
    "iş uygulaması: ML modelinin başarı testi(AB testi)\n",
    "\n",
    "            -----     -----\n",
    "            | A |     | B |  \n",
    "            -----     -----\n",
    "            \n",
    "   A eski bir sistemi; B ise ML modelinin entegre edildigi sistemi ifade ediyor.\n",
    "\n",
    "Problem:\n",
    "    bir ML projesine yatırım yapılmış. Ürettigi tahminler neticesinde olusan gelir ile eski\n",
    "    sistemin ürettigi gelirler karşılaştırılıp anlamlı farklılık olup olmadıgı test edilmek\n",
    "    isteniyor.\n",
    "\n",
    "Detaylar:\n",
    "    * Model geliştirilmiş ve web sitesine entegre edilmiş\n",
    "    * site kullanicilari belirli bir kurala göre ikiye bölünmüş\n",
    "    * A grubu eski, B grubu yeni sistem\n",
    "    * Gelir anlaminda anlamli bir iş yapılıp yapılmadıgı test edilmek isteniyor.\n",
    "            \n",
    "Soru:\n",
    "    ML modeli anlamlı farklılık olusturabildi mi?\n"
   ]
  },
  {
   "cell_type": "raw",
   "metadata": {},
   "source": [
    "H0: μ1 = μ2 (eski sistemin ortalamasi = yeni sistemin ortalamasi)\n",
    "H1: μ1 != μ2 (eski sistemin ortalamasi != yeni sistemin ortalamasi)"
   ]
  },
  {
   "cell_type": "code",
   "execution_count": 2,
   "metadata": {},
   "outputs": [
    {
     "data": {
      "text/html": [
       "<div>\n",
       "<style scoped>\n",
       "    .dataframe tbody tr th:only-of-type {\n",
       "        vertical-align: middle;\n",
       "    }\n",
       "\n",
       "    .dataframe tbody tr th {\n",
       "        vertical-align: top;\n",
       "    }\n",
       "\n",
       "    .dataframe thead th {\n",
       "        text-align: right;\n",
       "    }\n",
       "</style>\n",
       "<table border=\"1\" class=\"dataframe\">\n",
       "  <thead>\n",
       "    <tr style=\"text-align: right;\">\n",
       "      <th></th>\n",
       "      <th>A</th>\n",
       "      <th>B</th>\n",
       "    </tr>\n",
       "  </thead>\n",
       "  <tbody>\n",
       "    <tr>\n",
       "      <th>0</th>\n",
       "      <td>30</td>\n",
       "      <td>37</td>\n",
       "    </tr>\n",
       "    <tr>\n",
       "      <th>1</th>\n",
       "      <td>27</td>\n",
       "      <td>39</td>\n",
       "    </tr>\n",
       "    <tr>\n",
       "      <th>2</th>\n",
       "      <td>21</td>\n",
       "      <td>31</td>\n",
       "    </tr>\n",
       "    <tr>\n",
       "      <th>3</th>\n",
       "      <td>27</td>\n",
       "      <td>31</td>\n",
       "    </tr>\n",
       "    <tr>\n",
       "      <th>4</th>\n",
       "      <td>29</td>\n",
       "      <td>34</td>\n",
       "    </tr>\n",
       "  </tbody>\n",
       "</table>\n",
       "</div>"
      ],
      "text/plain": [
       "    A   B\n",
       "0  30  37\n",
       "1  27  39\n",
       "2  21  31\n",
       "3  27  31\n",
       "4  29  34"
      ]
     },
     "execution_count": 2,
     "metadata": {},
     "output_type": "execute_result"
    }
   ],
   "source": [
    "import numpy as np\n",
    "import pandas as pd\n",
    "import seaborn as sns\n",
    "\n",
    "# VERI TIPI I\n",
    "\n",
    "A = pd.DataFrame([30, 27, 21, 27, 29, 30, 20, 20, 27, 32,\n",
    "                  35, 22, 24, 23, 25, 27, 23, 27, 23, 25,\n",
    "                  21, 18, 24, 26, 33, 26, 27, 28, 19, 25])\n",
    "\n",
    "B = pd.DataFrame([37, 39, 31, 31, 34, 38, 30, 36, 29, 28,\n",
    "                  38, 28, 37, 37, 30, 32, 31, 31, 27, 32,\n",
    "                  33, 33, 33, 31, 32, 33, 26, 32, 33, 29])\n",
    "\n",
    "A_B = pd.concat([A, B], axis=1)\n",
    "A_B.columns = [\"A\", \"B\"]\n",
    "A_B.head()"
   ]
  },
  {
   "cell_type": "code",
   "execution_count": 3,
   "metadata": {},
   "outputs": [
    {
     "name": "stdout",
     "output_type": "stream",
     "text": [
      "   gelir Grup\n",
      "0     30    A\n",
      "1     27    A\n",
      "2     21    A\n",
      "3     27    A\n",
      "4     29    A\n",
      "    gelir Grup\n",
      "25     33    B\n",
      "26     26    B\n",
      "27     32    B\n",
      "28     33    B\n",
      "29     29    B\n"
     ]
    }
   ],
   "source": [
    "A = pd.DataFrame([30, 27, 21, 27, 29, 30, 20, 20, 27, 32,\n",
    "                  35, 22, 24, 23, 25, 27, 23, 27, 23, 25,\n",
    "                  21, 18, 24, 26, 33, 26, 27, 28, 19, 25])\n",
    "\n",
    "B = pd.DataFrame([37, 39, 31, 31, 34, 38, 30, 36, 29, 28,\n",
    "                  38, 28, 37, 37, 30, 32, 31, 31, 27, 32,\n",
    "                  33, 33, 33, 31, 32, 33, 26, 32, 33, 29])\n",
    "\n",
    "# A ve A nın grubu\n",
    "GRUP_A = np.arange(len(A))\n",
    "GRUP_A = pd.DataFrame(GRUP_A)\n",
    "GRUP_A[:] = \"A\"\n",
    "A = pd.concat([A, GRUP_A], axis=1)\n",
    "\n",
    "# B ve B nın grubu\n",
    "GRUP_B = np.arange(len(B))\n",
    "GRUP_B = pd.DataFrame(GRUP_B)\n",
    "GRUP_B[:] = \"B\"\n",
    "B = pd.concat([B, GRUP_B], axis=1)\n",
    "\n",
    "# Tüm veri\n",
    "AB = pd.concat([A, B])\n",
    "AB.columns = [\"gelir\", \"Grup\"]\n",
    "print(AB.head())\n",
    "print(AB.tail())"
   ]
  },
  {
   "cell_type": "code",
   "execution_count": 4,
   "metadata": {},
   "outputs": [
    {
     "data": {
      "text/plain": [
       "<matplotlib.axes._subplots.AxesSubplot at 0x7f232bf64da0>"
      ]
     },
     "execution_count": 4,
     "metadata": {},
     "output_type": "execute_result"
    },
    {
     "data": {
      "image/png": "[encoded data removed]",
      "text/plain": [
       "<Figure size 432x288 with 1 Axes>"
      ]
     },
     "metadata": {
      "needs_background": "light"
     },
     "output_type": "display_data"
    }
   ],
   "source": [
    "sns.boxplot(x=\"Grup\", y=\"gelir\", data=AB)"
   ]
  },
  {
   "cell_type": "raw",
   "metadata": {},
   "source": [
    "! B grubu yukarda gibi gorunuyor ama sans eseri olup olmadigin bilmedigimizden test yapmak gerekiyor."
   ]
  },
  {
   "cell_type": "markdown",
   "metadata": {},
   "source": [
    "#### VARSAYIM KONTROLU"
   ]
  },
  {
   "cell_type": "code",
   "execution_count": 5,
   "metadata": {},
   "outputs": [
    {
     "data": {
      "text/html": [
       "<div>\n",
       "<style scoped>\n",
       "    .dataframe tbody tr th:only-of-type {\n",
       "        vertical-align: middle;\n",
       "    }\n",
       "\n",
       "    .dataframe tbody tr th {\n",
       "        vertical-align: top;\n",
       "    }\n",
       "\n",
       "    .dataframe thead th {\n",
       "        text-align: right;\n",
       "    }\n",
       "</style>\n",
       "<table border=\"1\" class=\"dataframe\">\n",
       "  <thead>\n",
       "    <tr style=\"text-align: right;\">\n",
       "      <th></th>\n",
       "      <th>A</th>\n",
       "      <th>B</th>\n",
       "    </tr>\n",
       "  </thead>\n",
       "  <tbody>\n",
       "    <tr>\n",
       "      <th>0</th>\n",
       "      <td>30</td>\n",
       "      <td>37</td>\n",
       "    </tr>\n",
       "    <tr>\n",
       "      <th>1</th>\n",
       "      <td>27</td>\n",
       "      <td>39</td>\n",
       "    </tr>\n",
       "    <tr>\n",
       "      <th>2</th>\n",
       "      <td>21</td>\n",
       "      <td>31</td>\n",
       "    </tr>\n",
       "    <tr>\n",
       "      <th>3</th>\n",
       "      <td>27</td>\n",
       "      <td>31</td>\n",
       "    </tr>\n",
       "    <tr>\n",
       "      <th>4</th>\n",
       "      <td>29</td>\n",
       "      <td>34</td>\n",
       "    </tr>\n",
       "  </tbody>\n",
       "</table>\n",
       "</div>"
      ],
      "text/plain": [
       "    A   B\n",
       "0  30  37\n",
       "1  27  39\n",
       "2  21  31\n",
       "3  27  31\n",
       "4  29  34"
      ]
     },
     "execution_count": 5,
     "metadata": {},
     "output_type": "execute_result"
    }
   ],
   "source": [
    "A_B.head()"
   ]
  },
  {
   "cell_type": "code",
   "execution_count": 6,
   "metadata": {},
   "outputs": [
    {
     "data": {
      "text/html": [
       "<div>\n",
       "<style scoped>\n",
       "    .dataframe tbody tr th:only-of-type {\n",
       "        vertical-align: middle;\n",
       "    }\n",
       "\n",
       "    .dataframe tbody tr th {\n",
       "        vertical-align: top;\n",
       "    }\n",
       "\n",
       "    .dataframe thead th {\n",
       "        text-align: right;\n",
       "    }\n",
       "</style>\n",
       "<table border=\"1\" class=\"dataframe\">\n",
       "  <thead>\n",
       "    <tr style=\"text-align: right;\">\n",
       "      <th></th>\n",
       "      <th>gelir</th>\n",
       "      <th>Grup</th>\n",
       "    </tr>\n",
       "  </thead>\n",
       "  <tbody>\n",
       "    <tr>\n",
       "      <th>0</th>\n",
       "      <td>30</td>\n",
       "      <td>A</td>\n",
       "    </tr>\n",
       "    <tr>\n",
       "      <th>1</th>\n",
       "      <td>27</td>\n",
       "      <td>A</td>\n",
       "    </tr>\n",
       "    <tr>\n",
       "      <th>2</th>\n",
       "      <td>21</td>\n",
       "      <td>A</td>\n",
       "    </tr>\n",
       "    <tr>\n",
       "      <th>3</th>\n",
       "      <td>27</td>\n",
       "      <td>A</td>\n",
       "    </tr>\n",
       "    <tr>\n",
       "      <th>4</th>\n",
       "      <td>29</td>\n",
       "      <td>A</td>\n",
       "    </tr>\n",
       "  </tbody>\n",
       "</table>\n",
       "</div>"
      ],
      "text/plain": [
       "   gelir Grup\n",
       "0     30    A\n",
       "1     27    A\n",
       "2     21    A\n",
       "3     27    A\n",
       "4     29    A"
      ]
     },
     "execution_count": 6,
     "metadata": {},
     "output_type": "execute_result"
    }
   ],
   "source": [
    "AB.head()"
   ]
  },
  {
   "cell_type": "code",
   "execution_count": 7,
   "metadata": {},
   "outputs": [
    {
     "name": "stdout",
     "output_type": "stream",
     "text": [
      "(0.9789242148399353, 0.7962799668312073)\n",
      "(0.9561261534690857, 0.2458445429801941)\n"
     ]
    }
   ],
   "source": [
    "# normallik varsayımı\n",
    "from scipy.stats import shapiro\n",
    "\n",
    "print(shapiro(A_B.A))\n",
    "# H0 reddedilemiyor\n",
    "\n",
    "print(shapiro(A_B.B))\n",
    "# H0 reddedilemiyor"
   ]
  },
  {
   "cell_type": "code",
   "execution_count": 8,
   "metadata": {},
   "outputs": [
    {
     "name": "stdout",
     "output_type": "stream",
     "text": [
      "LeveneResult(statistic=1.1101802757158004, pvalue=0.2964124900636569)\n"
     ]
    }
   ],
   "source": [
    "# varyans homojenligi varsayimi\n",
    "from scipy import stats\n",
    "\"\"\" \n",
    "    H0: varyanslar homojendir\n",
    "    H1: varyanslar homojen degildir.\n",
    "\"\"\"\n",
    "\n",
    "print(stats.levene(A_B.A, A_B.B))\n",
    "# H0 reddedilemiyor"
   ]
  },
  {
   "cell_type": "markdown",
   "metadata": {},
   "source": [
    "### Hipotez testi"
   ]
  },
  {
   "cell_type": "code",
   "execution_count": 9,
   "metadata": {},
   "outputs": [
    {
     "data": {
      "text/plain": [
       "Ttest_indResult(statistic=-7.028690967745927, pvalue=2.6233215605475075e-09)"
      ]
     },
     "execution_count": 9,
     "metadata": {},
     "output_type": "execute_result"
    }
   ],
   "source": [
    "stats.ttest_ind(A_B[\"A\"], A_B[\"B\"], equal_var=True)\n",
    "# H0 reddedilebilir"
   ]
  },
  {
   "cell_type": "code",
   "execution_count": 10,
   "metadata": {},
   "outputs": [
    {
     "name": "stdout",
     "output_type": "stream",
     "text": [
      "test istatistigi: -7.0287, p-value: 0.0000\n"
     ]
    }
   ],
   "source": [
    "test_istatistigi, pvalue = stats.ttest_ind(A_B[\"A\"], A_B[\"B\"], equal_var=True)\n",
    "print(\"test istatistigi: %.4f, p-value: %.4f\" %(test_istatistigi, pvalue))"
   ]
  },
  {
   "cell_type": "raw",
   "metadata": {},
   "source": [
    "sonuç: eski sistem ile yeni sistem arasinda anlamli bir farklilik vardir bu fark yeni sistemin lehinedir."
   ]
  },
  {
   "cell_type": "markdown",
   "metadata": {},
   "source": [
    "### Nonparametrik bagimsiz iki orneklem T testi"
   ]
  },
  {
   "cell_type": "code",
   "execution_count": 12,
   "metadata": {},
   "outputs": [
    {
     "name": "stdout",
     "output_type": "stream",
     "text": [
      "test istatistigi: 89.5000, p-value: 0.0000\n"
     ]
    }
   ],
   "source": [
    "test_istatistigi, pvalue = stats.mannwhitneyu(A_B[\"A\"], A_B[\"B\"])\n",
    "print(\"test istatistigi: %.4f, p-value: %.4f\" % (test_istatistigi, pvalue))"
   ]
  }
 ],
 "metadata": {
  "kernelspec": {
   "display_name": "Python 3",
   "language": "python",
   "name": "python3"
  },
  "language_info": {
   "codemirror_mode": {
    "name": "ipython",
    "version": 3
   },
   "file_extension": ".py",
   "mimetype": "text/x-python",
   "name": "python",
   "nbconvert_exporter": "python",
   "pygments_lexer": "ipython3",
   "version": "3.6.9"
  }
 },
 "nbformat": 4,
 "nbformat_minor": 4
}
