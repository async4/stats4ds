{
 "cells": [
  {
   "cell_type": "raw",
   "metadata": {},
   "source": [
    "güven araligi nedir: anakütle parametresinin tahmini değerini kapsayabilecek iki sayidan oluşan bir aralik bulunmasidir.\n",
    "\n",
    "ölçümün hassasiyetinin bir göstergesidir.\n",
    "\n",
    "güven araligi nasil hesaplanir:\n",
    "    adim 1: n, ortalama ve standart sapmayı bul\n",
    "        n = 100, ortalama = 180, standart sapma = 40\n",
    "        \n",
    "    adim 2: güven araligina karar ver 95 mi 99 mu ?\n",
    "        z tablo değerini hesapla (1.96 - 2.57)\n",
    "        \n",
    "    adim 3: yukaridaki değerleri kullanarak güven araligini hesapla\n",
    "        mean(x) +- z*(s/sqrt(n)) = 180 +- 1.96*(40/sqrt(100))\n",
    "    \n",
    "    sonuç: 180 +- 7.84 yani 172 ile 188 arasindadir.\n",
    "    "
   ]
  },
  {
   "cell_type": "raw",
   "metadata": {},
   "source": [
    "iş uygulaması\n",
    "\n",
    "problem:\n",
    "    CEO fiyat belirleme konusunda bilimsel bir dayanak ve esneklik istiyor.\n",
    "\n",
    "detaylar:\n",
    "    satici, alici ve bir ürün var.\n",
    "    alicilara ürüne ne kadar ücret öderdiniz diye soruluyor.\n",
    "    optimum fiyat bilimsel ve esnek olarak bulunmak isteniyor."
   ]
  },
  {
   "cell_type": "code",
   "execution_count": 4,
   "metadata": {},
   "outputs": [],
   "source": [
    "import numpy as np"
   ]
  },
  {
   "cell_type": "code",
   "execution_count": 5,
   "metadata": {},
   "outputs": [
    {
     "data": {
      "text/plain": [
       "58.332"
      ]
     },
     "execution_count": 5,
     "metadata": {},
     "output_type": "execute_result"
    }
   ],
   "source": [
    "fiyatlar = np.random.randint(10, 110, 1000)\n",
    "fiyatlar.mean()"
   ]
  },
  {
   "cell_type": "code",
   "execution_count": 6,
   "metadata": {},
   "outputs": [],
   "source": [
    "import statsmodels.stats.api as sms"
   ]
  },
  {
   "cell_type": "code",
   "execution_count": 10,
   "metadata": {},
   "outputs": [
    {
     "data": {
      "text/plain": [
       "(56.57628631715758, 60.08771368284242)"
      ]
     },
     "execution_count": 10,
     "metadata": {},
     "output_type": "execute_result"
    }
   ],
   "source": [
    "sms.DescrStatsW(fiyatlar).tconfint_mean() # güven araligi"
   ]
  },
  {
   "cell_type": "code",
   "execution_count": null,
   "metadata": {},
   "outputs": [],
   "source": []
  },
  {
   "cell_type": "code",
   "execution_count": null,
   "metadata": {},
   "outputs": [],
   "source": []
  }
 ],
 "metadata": {
  "kernelspec": {
   "display_name": "Python 3",
   "language": "python",
   "name": "python3"
  },
  "language_info": {
   "codemirror_mode": {
    "name": "ipython",
    "version": 3
   },
   "file_extension": ".py",
   "mimetype": "text/x-python",
   "name": "python",
   "nbconvert_exporter": "python",
   "pygments_lexer": "ipython3",
   "version": "3.6.9"
  }
 },
 "nbformat": 4,
 "nbformat_minor": 4
}
