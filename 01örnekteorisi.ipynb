{
 "cells": [
  {
   "cell_type": "raw",
   "metadata": {},
   "source": [
    "örneklem nedir: belirli bir popülasyon içerisinden alt küme seçme işlemidir.\n",
    "\n",
    "örneklem dağılımı nedir: birden fazla örneklem çekeriz ve bu örneklemlerin dağılımıyla ilgileniriz.\n",
    "\n",
    "merkezi limit teoremi nedir: bağımsız ve aynı dağılıma sahip rassal(rastgele) değişkenlerin\n",
    "toplamı ya da aritmetik ortalaması yaklaşık olarak normal dağılmaktadır."
   ]
  },
  {
   "cell_type": "code",
   "execution_count": 41,
   "metadata": {},
   "outputs": [],
   "source": [
    "import numpy as np"
   ]
  },
  {
   "cell_type": "code",
   "execution_count": 53,
   "metadata": {},
   "outputs": [
    {
     "name": "stdout",
     "output_type": "stream",
     "text": [
      "44.38\n",
      "39.2299\n"
     ]
    },
    {
     "data": {
      "text/plain": [
       "39.800000000000004"
      ]
     },
     "execution_count": 53,
     "metadata": {},
     "output_type": "execute_result"
    }
   ],
   "source": [
    "populasyon = np.random.randint(0, 80, 10000)\n",
    "populasyon[0:10]\n",
    "\n",
    "\"\"\" orneklem cekimi \"\"\"\n",
    "np.random.seed(10) # ayni orneklemin cikabilmesini garanti altina aliyoruz.\n",
    "\n",
    "orneklem = np.random.choice(a=populasyon, size=100) # populasyon icerisinden rastgele 100 tane ornek.\n",
    "print(orneklem.mean()) # 100 kisinin yas ortalamasi\n",
    "print(populasyon.mean()) # 10000 kisinin yas ortalamasi\n",
    "\n",
    "\"\"\" orneklem dagilimi \"\"\"\n",
    "\n",
    "np.random.seed(10)\n",
    "orneklem1 = np.random.choice(a=populasyon, size=100)\n",
    "orneklem2 = np.random.choice(a=populasyon, size=100)\n",
    "orneklem3 = np.random.choice(a=populasyon, size=100)\n",
    "orneklem4 = np.random.choice(a=populasyon, size=100)\n",
    "orneklem5 = np.random.choice(a=populasyon, size=100)\n",
    "orneklem6 = np.random.choice(a=populasyon, size=100)\n",
    "orneklem7 = np.random.choice(a=populasyon, size=100)\n",
    "orneklem8 = np.random.choice(a=populasyon, size=100)\n",
    "orneklem9 = np.random.choice(a=populasyon, size=100)\n",
    "orneklem10 = np.random.choice(a=populasyon, size=100)\n",
    "\n",
    "(orneklem1.mean() + orneklem2.mean() + orneklem3.mean() + orneklem4.mean() + \n",
    " orneklem5.mean() + orneklem6.mean() + orneklem7.mean() + orneklem8.mean() +\n",
    " orneklem9.mean() + orneklem10.mean()) / 10\n"
   ]
  }
 ],
 "metadata": {
  "kernelspec": {
   "display_name": "Python 3",
   "language": "python",
   "name": "python3"
  },
  "language_info": {
   "codemirror_mode": {
    "name": "ipython",
    "version": 3
   },
   "file_extension": ".py",
   "mimetype": "text/x-python",
   "name": "python",
   "nbconvert_exporter": "python",
   "pygments_lexer": "ipython3",
   "version": "3.6.9"
  }
 },
 "nbformat": 4,
 "nbformat_minor": 4
}
