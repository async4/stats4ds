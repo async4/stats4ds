{
 "cells": [
  {
   "cell_type": "raw",
   "metadata": {},
   "source": [
    "bağımlı iki grup ortalamasi arasinda karşılaştırma yapılmak istenildiginde kullanilir.\n",
    "\n",
    "H0: μö = μs   H0: μö <= μs  H0: μö >= μs\n",
    "H1: μö != μs  H1: μö > μs   H1: μö < μs\n",
    "\n",
    "test istatistigi:\n",
    "    t = mean(XD) - μ0 / (SD / sqrt(n))\n",
    "    \n",
    "    XD = oncesinin ve sonrasinin farki\n",
    "    SD = oncesinin ve sonrasinin farki"
   ]
  },
  {
   "cell_type": "raw",
   "metadata": {},
   "source": [
    "iş uygulaması: şirket içi eğitimin performans etkisi ölçümü\n",
    "\n",
    "Problem:\n",
    "    alinan bu eğitimin katma değer sağlayıp sağlamadıgı ölculmek isteniyor.\n",
    "\n",
    "Detaylar:\n",
    "    * bir departman bir konuda eğitim talep ediyor.\n",
    "    * gerekli/gereksiz değerlendirmeleri neticesinde eğitim aliniyor.\n",
    "    * eğitimden once ve sonra olacka şekilde gerekli ölçümler yapılıyor.\n",
    "    * eğitim sonrasinda eğitimin sağladıgı katma değer test edilmek isteniyor.\n",
    "    \n",
    "hipotez:\n",
    "    H0: μö = μs\n",
    "    H1: μö != μs"
   ]
  },
  {
   "cell_type": "code",
   "execution_count": 1,
   "metadata": {},
   "outputs": [],
   "source": [
    "import numpy as np\n",
    "import pandas as pd"
   ]
  },
  {
   "cell_type": "code",
   "execution_count": 37,
   "metadata": {},
   "outputs": [],
   "source": [
    "oncesi = pd.DataFrame([123, 119, 119, 116, 123, 123, 121, 120, 117, 118,\n",
    "                       121, 121, 123, 119, 121, 118, 124, 121, 125,\n",
    "                       115, 115, 119, 118, 121, 117, 117, 120, 120, 121,\n",
    "                       117, 118, 117, 123, 118, 124, 121, 115, 118, 125, 115])\n",
    "\n",
    "sonrasi = pd.DataFrame([118, 127, 122, 132, 129, 123, 129, 132, 128, 130, 128, 138,\n",
    "                        140, 130, 134, 134, 124, 140, 134, 129, 129, 138, 134, 124,\n",
    "                        122, 126, 133, 127, 130, 130, 130, 132, 117, 130, 125, 129,\n",
    "                        133, 120, 127, 123])"
   ]
  },
  {
   "cell_type": "code",
   "execution_count": 38,
   "metadata": {},
   "outputs": [
    {
     "name": "stdout",
     "output_type": "stream",
     "text": [
      "AYRIK veri seti: \n",
      "\n",
      "    ONCESI  SONRASI\n",
      "0     123      118\n",
      "1     119      127\n",
      "2     119      122\n",
      "3     116      132\n",
      "4     123      129 \n",
      "\n",
      "\n"
     ]
    }
   ],
   "source": [
    "# BIRINCI VERI SETI (AYRIK VERI SETIDIR)\n",
    "AYRIK = pd.concat([oncesi, sonrasi], axis=1)\n",
    "AYRIK.columns = [\"ONCESI\", \"SONRASI\"]\n",
    "print(\"AYRIK veri seti: \\n\\n\", AYRIK.head(), '\\n\\n')"
   ]
  },
  {
   "cell_type": "code",
   "execution_count": 39,
   "metadata": {},
   "outputs": [],
   "source": [
    "# IKINCI VERI SETI (BIRLESIK VERI SETIDIR)\n",
    "# ONCESI FLAG/TAG'INI OLUSTURMA\n",
    "GRUP_ONCESI = np.arange(len(oncesi))\n",
    "GRUP_ONCESI = pd.DataFrame(GRUP_ONCESI)\n",
    "GRUP_ONCESI[:] = \"ONCESI\""
   ]
  },
  {
   "cell_type": "code",
   "execution_count": 40,
   "metadata": {},
   "outputs": [],
   "source": [
    "# FLAG ve ONCESI DEGERLERINI BIR ARAYA GETIRME\n",
    "A = pd.concat([oncesi, GRUP_ONCESI], axis=1)"
   ]
  },
  {
   "cell_type": "code",
   "execution_count": 41,
   "metadata": {},
   "outputs": [],
   "source": [
    "# SONRASI FLAG_TAG'INI OLUSTURMA\n",
    "GRUP_SONRASI = np.arange(len(sonrasi))\n",
    "GRUP_SONRASI = pd.DataFrame(GRUP_SONRASI)\n",
    "GRUP_SONRASI[:] = \"SONRASI\""
   ]
  },
  {
   "cell_type": "code",
   "execution_count": 42,
   "metadata": {},
   "outputs": [],
   "source": [
    "# FLAG VE SONRASI DEGERLERINI BIR ARAYA GETIRME\n",
    "B = pd.concat([sonrasi, GRUP_SONRASI], axis=1)"
   ]
  },
  {
   "cell_type": "code",
   "execution_count": 43,
   "metadata": {},
   "outputs": [
    {
     "data": {
      "text/html": [
       "<div>\n",
       "<style scoped>\n",
       "    .dataframe tbody tr th:only-of-type {\n",
       "        vertical-align: middle;\n",
       "    }\n",
       "\n",
       "    .dataframe tbody tr th {\n",
       "        vertical-align: top;\n",
       "    }\n",
       "\n",
       "    .dataframe thead th {\n",
       "        text-align: right;\n",
       "    }\n",
       "</style>\n",
       "<table border=\"1\" class=\"dataframe\">\n",
       "  <thead>\n",
       "    <tr style=\"text-align: right;\">\n",
       "      <th></th>\n",
       "      <th>0</th>\n",
       "      <th>0</th>\n",
       "    </tr>\n",
       "  </thead>\n",
       "  <tbody>\n",
       "    <tr>\n",
       "      <th>0</th>\n",
       "      <td>123</td>\n",
       "      <td>ONCESI</td>\n",
       "    </tr>\n",
       "    <tr>\n",
       "      <th>1</th>\n",
       "      <td>119</td>\n",
       "      <td>ONCESI</td>\n",
       "    </tr>\n",
       "    <tr>\n",
       "      <th>2</th>\n",
       "      <td>119</td>\n",
       "      <td>ONCESI</td>\n",
       "    </tr>\n",
       "    <tr>\n",
       "      <th>3</th>\n",
       "      <td>116</td>\n",
       "      <td>ONCESI</td>\n",
       "    </tr>\n",
       "    <tr>\n",
       "      <th>4</th>\n",
       "      <td>123</td>\n",
       "      <td>ONCESI</td>\n",
       "    </tr>\n",
       "    <tr>\n",
       "      <th>...</th>\n",
       "      <td>...</td>\n",
       "      <td>...</td>\n",
       "    </tr>\n",
       "    <tr>\n",
       "      <th>35</th>\n",
       "      <td>129</td>\n",
       "      <td>SONRASI</td>\n",
       "    </tr>\n",
       "    <tr>\n",
       "      <th>36</th>\n",
       "      <td>133</td>\n",
       "      <td>SONRASI</td>\n",
       "    </tr>\n",
       "    <tr>\n",
       "      <th>37</th>\n",
       "      <td>120</td>\n",
       "      <td>SONRASI</td>\n",
       "    </tr>\n",
       "    <tr>\n",
       "      <th>38</th>\n",
       "      <td>127</td>\n",
       "      <td>SONRASI</td>\n",
       "    </tr>\n",
       "    <tr>\n",
       "      <th>39</th>\n",
       "      <td>123</td>\n",
       "      <td>SONRASI</td>\n",
       "    </tr>\n",
       "  </tbody>\n",
       "</table>\n",
       "<p>80 rows × 2 columns</p>\n",
       "</div>"
      ],
      "text/plain": [
       "      0        0\n",
       "0   123   ONCESI\n",
       "1   119   ONCESI\n",
       "2   119   ONCESI\n",
       "3   116   ONCESI\n",
       "4   123   ONCESI\n",
       "..  ...      ...\n",
       "35  129  SONRASI\n",
       "36  133  SONRASI\n",
       "37  120  SONRASI\n",
       "38  127  SONRASI\n",
       "39  123  SONRASI\n",
       "\n",
       "[80 rows x 2 columns]"
      ]
     },
     "execution_count": 43,
     "metadata": {},
     "output_type": "execute_result"
    }
   ],
   "source": [
    "# TUM VERIYI BIR ARAYA GETIRME\n",
    "BIRLESIK = pd.concat([A, B])\n",
    "BIRLESIK"
   ]
  },
  {
   "cell_type": "code",
   "execution_count": 44,
   "metadata": {},
   "outputs": [
    {
     "name": "stdout",
     "output_type": "stream",
     "text": [
      "BIRLESIK Veri seti: \n",
      "\n",
      "    PERFORMANS ONCESI_SONRASI\n",
      "0         123         ONCESI\n",
      "1         119         ONCESI\n",
      "2         119         ONCESI\n",
      "3         116         ONCESI\n",
      "4         123         ONCESI \n",
      "\n"
     ]
    }
   ],
   "source": [
    "# ISIMLENDIRME\n",
    "BIRLESIK.columns = [\"PERFORMANS\", \"ONCESI_SONRASI\"]\n",
    "print(\"BIRLESIK Veri seti: \\n\\n\", BIRLESIK.head(), \"\\n\")"
   ]
  },
  {
   "cell_type": "code",
   "execution_count": 45,
   "metadata": {},
   "outputs": [
    {
     "data": {
      "text/plain": [
       "<matplotlib.axes._subplots.AxesSubplot at 0x7f8ca3b85a20>"
      ]
     },
     "execution_count": 45,
     "metadata": {},
     "output_type": "execute_result"
    },
    {
     "data": {
      "image/png": "[encoded data removed]",
      "text/plain": [
       "<Figure size 432x288 with 1 Axes>"
      ]
     },
     "metadata": {
      "needs_background": "light"
     },
     "output_type": "display_data"
    }
   ],
   "source": [
    "# boxplot\n",
    "import seaborn as sns\n",
    "sns.boxplot(x=\"ONCESI_SONRASI\", y=\"PERFORMANS\", data=BIRLESIK)"
   ]
  },
  {
   "cell_type": "code",
   "execution_count": 49,
   "metadata": {},
   "outputs": [
    {
     "name": "stdout",
     "output_type": "stream",
     "text": [
      "(0.9543654918670654, 0.10722342133522034)\n",
      "(0.9780087471008301, 0.6159457564353943)\n"
     ]
    }
   ],
   "source": [
    "# Varsayim kontrolleri\n",
    "from scipy.stats import shapiro\n",
    "\n",
    "print(shapiro(AYRIK.ONCESI))\n",
    "# H0 reddedilemiyor\n",
    "\n",
    "print(shapiro(AYRIK.SONRASI))\n",
    "# H0 reddedilemiyor"
   ]
  },
  {
   "cell_type": "code",
   "execution_count": 55,
   "metadata": {},
   "outputs": [
    {
     "data": {
      "text/plain": [
       "LeveneResult(statistic=8.31303288672351, pvalue=0.0050844511807370246)"
      ]
     },
     "execution_count": 55,
     "metadata": {},
     "output_type": "execute_result"
    }
   ],
   "source": [
    "from scipy import stats\n",
    "\n",
    "stats.levene(AYRIK.ONCESI, AYRIK.SONRASI)\n",
    "# H0 red (simdilik gozardı ediliyor.)"
   ]
  },
  {
   "cell_type": "code",
   "execution_count": 59,
   "metadata": {},
   "outputs": [
    {
     "name": "stdout",
     "output_type": "stream",
     "text": [
      "test istatistigi: -9.2815 , p-value: 0.0000\n"
     ]
    }
   ],
   "source": [
    "# Hipotez testi\n",
    "test_istatistigi, pvalue = stats.ttest_rel(AYRIK.ONCESI, AYRIK.SONRASI)\n",
    "print(\"test istatistigi: %.4f , p-value: %.4f\" %(test_istatistigi, pvalue))"
   ]
  },
  {
   "cell_type": "raw",
   "metadata": {},
   "source": [
    "! H0 red. Oncesi ve sonrasi arasinda istatistiksel olarak bir fark vardir."
   ]
  },
  {
   "cell_type": "code",
   "execution_count": 62,
   "metadata": {},
   "outputs": [
    {
     "name": "stdout",
     "output_type": "stream",
     "text": [
      "test istatistigi: 15.0000 , p-value: 0.0000\n"
     ]
    }
   ],
   "source": [
    "# Nonparametrik bağımli iki örneklem testi\n",
    "test_istatistigi, pvalue = stats.wilcoxon(AYRIK.ONCESI, AYRIK.SONRASI)\n",
    "print(\"test istatistigi: %.4f , p-value: %.4f\" %(test_istatistigi, pvalue))"
   ]
  },
  {
   "cell_type": "raw",
   "metadata": {},
   "source": [
    "! H0 red. Oncesi ve sonrasi arasinda istatistiksel olarak bir fark vardir."
   ]
  }
 ],
 "metadata": {
  "kernelspec": {
   "display_name": "Python 3",
   "language": "python",
   "name": "python3"
  },
  "language_info": {
   "codemirror_mode": {
    "name": "ipython",
    "version": 3
   },
   "file_extension": ".py",
   "mimetype": "text/x-python",
   "name": "python",
   "nbconvert_exporter": "python",
   "pygments_lexer": "ipython3",
   "version": "3.6.9"
  }
 },
 "nbformat": 4,
 "nbformat_minor": 4
}
