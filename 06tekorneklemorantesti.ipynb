{
 "cells": [
  {
   "cell_type": "raw",
   "metadata": {},
   "source": [
    "oransal bir ifade test edilmek istenildiginde kullanilir.\n",
    "\n",
    "H0: P = P0    H0: P <= P0   H0: P >= P0\n",
    "H1: P != P0   H1: P > P0    H1: P < P0\n",
    "\n",
    "test istatistigi:\n",
    "    \n",
    "    z = ^P - P0 / sqrt(P0*(1-P0) / n)\n",
    "    \n",
    "    ^P: ornek üzerinden elde edilen deger\n",
    "    P0: sinamak üzere odaklanilan deger"
   ]
  },
  {
   "cell_type": "raw",
   "metadata": {},
   "source": [
    "Problem:\n",
    "    bir yazilim ile bir mecrada reklam verilmiş ve bu reklama ilişkin yazilim tarafindan 0.125 dönüşüm \n",
    "    oranı elde edildigi ifade edilmiş. Fakat bu durum kontrol edilmek isteniyor. Çünkü bu yüksek bir oran \n",
    "    ve gelirler incelendiginde örtüşmüyor.\n",
    "\n",
    "Detaylar:\n",
    "    * 500 kişi dış mecrada reklamlara tiklamis, 40 tanesi sitemize gelip alışveriş yapmış.\n",
    "    * ornek üzerinden elde edilen dönüşüm oranı: 40 / 500 = 0.08\n"
   ]
  },
  {
   "cell_type": "raw",
   "metadata": {},
   "source": [
    "H0: P = 0.125\n",
    "H1: P != 0.125"
   ]
  },
  {
   "cell_type": "code",
   "execution_count": 1,
   "metadata": {},
   "outputs": [],
   "source": [
    "from statsmodels.stats.proportion import proportions_ztest"
   ]
  },
  {
   "cell_type": "code",
   "execution_count": 2,
   "metadata": {},
   "outputs": [
    {
     "data": {
      "text/plain": [
       "(-3.7090151628513017, 0.0002080669689845979)"
      ]
     },
     "execution_count": 2,
     "metadata": {},
     "output_type": "execute_result"
    }
   ],
   "source": [
    "count = 40\n",
    "nobs = 500\n",
    "value = 0.125\n",
    "proportions_ztest(count, nobs, value)"
   ]
  },
  {
   "cell_type": "raw",
   "metadata": {},
   "source": [
    "p-value 0.05 den kucuk oldugu icin H0 reddediyoruz."
   ]
  }
 ],
 "metadata": {
  "kernelspec": {
   "display_name": "Python 3",
   "language": "python",
   "name": "python3"
  },
  "language_info": {
   "codemirror_mode": {
    "name": "ipython",
    "version": 3
   },
   "file_extension": ".py",
   "mimetype": "text/x-python",
   "name": "python",
   "nbconvert_exporter": "python",
   "pygments_lexer": "ipython3",
   "version": "3.6.9"
  }
 },
 "nbformat": 4,
 "nbformat_minor": 4
}
